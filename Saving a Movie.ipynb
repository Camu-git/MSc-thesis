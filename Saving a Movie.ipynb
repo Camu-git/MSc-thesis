{
 "cells": [
  {
   "cell_type": "markdown",
   "id": "794ba76b-e843-49f3-8d53-c9c7d3766b34",
   "metadata": {},
   "source": [
    "# Saving a movie\n",
    "\n",
    "A code to save the evolution of your bathimetry data as an mp4."
   ]
  },
  {
   "cell_type": "code",
   "execution_count": 9,
   "id": "173758a4-416a-42f3-a06b-03db1245ea95",
   "metadata": {},
   "outputs": [],
   "source": [
    "import os\n",
    "import numpy as np\n",
    "import xarray as xr\n",
    "import matplotlib.pyplot as plt\n",
    "from matplotlib.colors import LinearSegmentedColormap, TwoSlopeNorm\n",
    "from matplotlib import animation\n",
    "\n",
    "# Dredging pit marker positions\n",
    "pit_x = np.array([7450.0, 7950.0, 8450.0, 8950.0]) + 25\n",
    "pit_y = np.array([5452.0898, 5451.0, 5451.0, 5451.0]) - 30\n",
    "\n",
    "def save_bathymetry_movie(nc_file, base_folder=\"outputs\", subfolder=\"scenario\", filename=\"bathymetry.mp4\",\n",
    "                           vmin=-15, vmax=5, vcenter=0, fps=5):\n",
    "    # Create output directory\n",
    "    output_path = os.path.join(base_folder, subfolder, filename)\n",
    "    os.makedirs(os.path.dirname(output_path), exist_ok=True)\n",
    "\n",
    "    # Load NetCDF data\n",
    "    dataset = xr.open_dataset(nc_file)\n",
    "    xc = dataset[\"XCOR\"].values\n",
    "    yc = dataset[\"YCOR\"].values\n",
    "    depth = dataset[\"DPS\"].values * -1  # Convert to elevation\n",
    "    time_values = dataset[\"time\"].values\n",
    "\n",
    "    # Trim edges\n",
    "    xc_inner = xc[1:-1, 1:-1]\n",
    "    yc_inner = yc[1:-1, 1:-1]\n",
    "    depth_inner = depth[:, 1:-1, 1:-1]\n",
    "\n",
    "    # Custom colormap\n",
    "    colors = [\n",
    "        (0.00, \"#000066\"),\n",
    "        (0.10, \"#0000ff\"),\n",
    "        (0.30, \"#00ffff\"),\n",
    "        (0.40, \"#00ffff\"),\n",
    "        (0.50, \"#ffffcc\"),\n",
    "        (0.60, \"#ffcc00\"),\n",
    "        (0.75, \"#cc6600\"),\n",
    "        (0.90, \"#228B22\"),\n",
    "        (1.00, \"#006400\"),\n",
    "    ]\n",
    "    terrain_like = LinearSegmentedColormap.from_list(\"custom_terrain\", colors)\n",
    "    norm = TwoSlopeNorm(vmin=vmin, vcenter=vcenter, vmax=vmax)\n",
    "\n",
    "    # Set up plot\n",
    "    fig, ax = plt.subplots(figsize=(8, 6))\n",
    "    mesh = ax.pcolormesh(xc_inner, yc_inner, depth_inner[0], shading='auto', cmap=terrain_like, norm=norm)\n",
    "    fig.colorbar(mesh, ax=ax, label='Elevation relative to MSL [m]')\n",
    "    ax.set_xlabel(\"X Coordinate\")\n",
    "    ax.set_ylabel(\"Y Coordinate\")\n",
    "    title = ax.set_title(\"\")\n",
    "\n",
    "    ax.scatter(pit_x, pit_y, marker='s', s=20, facecolors='none',\n",
    "               edgecolors='black', linewidth=0.5, label='Dredging Locations')\n",
    "\n",
    "    # Animation update function\n",
    "    def update(frame):\n",
    "        mesh.set_array(depth_inner[frame].ravel())\n",
    "        title.set_text(f\"Depth at {time_values[frame]} Morphological years\")\n",
    "        return mesh, title\n",
    "\n",
    "    # Create animation\n",
    "    ani = animation.FuncAnimation(fig, update, frames=len(time_values), blit=False)\n",
    "\n",
    "    # Save animation\n",
    "    ani.save(output_path, fps=fps, dpi=150)\n",
    "    print(f\"Animation saved as {output_path}\")\n",
    "\n",
    "    dataset.close()"
   ]
  },
  {
   "cell_type": "markdown",
   "id": "f049e9f5-f240-43a2-bcae-a30feec1ee2f",
   "metadata": {},
   "source": [
    "Then use it like this:"
   ]
  },
  {
   "cell_type": "code",
   "execution_count": 14,
   "id": "603d566a-e0f1-4649-88fa-5743e04fc479",
   "metadata": {},
   "outputs": [],
   "source": [
    "trim5 = 'Mahakam_500/Dreding duration/Mhaa/trim-001.nc'      # Your trimfile here\n",
    "\n",
    "save_bathymetry_movie(\n",
    "        trim5,\n",
    "        subfolder='Subfoldername',                # instert subfolder name\n",
    "        filename=f\"{trimIDs[i]}_simulation.mp4\",   # Insert title of the movie\n",
    "        fps=5                                     # modify vmin and vmax to your map \n",
    "    )"
   ]
  },
  {
   "cell_type": "markdown",
   "id": "48ef4417-fb79-4bbd-985d-2b4285700f61",
   "metadata": {},
   "source": [
    "Thanks for reading\\\n",
    "Cheers,"
   ]
  },
  {
   "cell_type": "code",
   "execution_count": null,
   "id": "99429cee-447f-460f-ab06-a8406fea07f4",
   "metadata": {},
   "outputs": [],
   "source": []
  }
 ],
 "metadata": {
  "kernelspec": {
   "display_name": "Python [conda env:thesis_env]",
   "language": "python",
   "name": "conda-env-thesis_env-py"
  },
  "language_info": {
   "codemirror_mode": {
    "name": "ipython",
    "version": 3
   },
   "file_extension": ".py",
   "mimetype": "text/x-python",
   "name": "python",
   "nbconvert_exporter": "python",
   "pygments_lexer": "ipython3",
   "version": "3.6.3"
  }
 },
 "nbformat": 4,
 "nbformat_minor": 5
}
